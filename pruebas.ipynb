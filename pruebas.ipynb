{
 "cells": [
  {
   "cell_type": "code",
   "execution_count": 1,
   "metadata": {},
   "outputs": [
    {
     "name": "stdout",
     "output_type": "stream",
     "text": [
      "Obteniendo 913 casas\n"
     ]
    }
   ],
   "source": [
    "import requests\n",
    "from bs4 import BeautifulSoup\n",
    "import pandas as pd\n",
    "from progress.bar import Bar\n",
    "from scraper_parts import get_links, check_proyecto_nuevo, scrape_proyecto_normal, scrape_proyecto_nuevo\n",
    "\n",
    "pd.DataFrame({\"A\":[1,2]}).to_excel(\"prueba.xlsx\", index=False)\n",
    "\n",
    "links=get_links()\n",
    "df_master = pd.DataFrame()\n",
    "links_shortened = links[:5].copy()\n",
    "\n",
    "print(f\"Obteniendo {len(links)} casas\")\n",
    "\n",
    "with Bar(\"Processing --->\", fill=\"##\", suffix=\"%(percent).1f%% - %(eta)ds\") as bar:\n",
    "    for casa in links:\n",
    "        is_proyecto_nuevo, soup, r, saltarse_link = check_proyecto_nuevo(casa)\n",
    "\n",
    "        if is_proyecto_nuevo:\n",
    "            scrape_proyecto_nuevo()\n",
    "            continue\n",
    "        else:        \n",
    "            df_tmp = scrape_proyecto_normal(soup=soup, r=r)\n",
    "\n",
    "        df_master = pd.concat([df_master, df_tmp])\n",
    "        bar.next()\n",
    "\n",
    "df_master.to_excel(\"resultado.xlsx\", index=False)"
   ]
  },
  {
   "cell_type": "code",
   "execution_count": 2,
   "metadata": {},
   "outputs": [
    {
     "data": {
      "text/plain": [
       "'https://www.encuentra24.com/el-salvador-es/bienes-raices-venta-de-propiedades-casas//24441764'"
      ]
     },
     "execution_count": 2,
     "metadata": {},
     "output_type": "execute_result"
    }
   ],
   "source": [
    "casa"
   ]
  },
  {
   "cell_type": "code",
   "execution_count": 5,
   "metadata": {},
   "outputs": [],
   "source": [
    "link=\"https://www.encuentra24.com/el-salvador-es/bienes-raices-proyectos-nuevos/comalapa-flats/24582258?list=category&catslug=bienes-raices-venta-de-propiedades-casas\"\n",
    "r = requests.get(link)\n",
    "soup = BeautifulSoup(r.text, \"html.parser\")"
   ]
  },
  {
   "cell_type": "code",
   "execution_count": 15,
   "metadata": {},
   "outputs": [
    {
     "data": {
      "text/plain": [
       "True"
      ]
     },
     "execution_count": 15,
     "metadata": {},
     "output_type": "execute_result"
    }
   ],
   "source": [
    "soup.find(name=\"a\", attrs={\"class\":\"clase-loca-que-no-existe\"})==None"
   ]
  },
  {
   "cell_type": "code",
   "execution_count": 5,
   "metadata": {},
   "outputs": [
    {
     "data": {
      "text/plain": [
       "True"
      ]
     },
     "execution_count": 5,
     "metadata": {},
     "output_type": "execute_result"
    }
   ],
   "source": [
    "not None"
   ]
  },
  {
   "cell_type": "code",
   "execution_count": null,
   "metadata": {},
   "outputs": [],
   "source": []
  }
 ],
 "metadata": {
  "kernelspec": {
   "display_name": "Python 3.11.3 ('base')",
   "language": "python",
   "name": "python3"
  },
  "language_info": {
   "codemirror_mode": {
    "name": "ipython",
    "version": 3
   },
   "file_extension": ".py",
   "mimetype": "text/x-python",
   "name": "python",
   "nbconvert_exporter": "python",
   "pygments_lexer": "ipython3",
   "version": "3.11.3"
  },
  "orig_nbformat": 4,
  "vscode": {
   "interpreter": {
    "hash": "7758e92e9a61d7a3490898707f7eeb937c85e9d1e8d4e877cc6c187218f226d5"
   }
  }
 },
 "nbformat": 4,
 "nbformat_minor": 2
}
