{
 "cells": [
  {
   "cell_type": "code",
   "execution_count": 91,
   "metadata": {},
   "outputs": [],
   "source": [
    "import pandas as pd\n",
    "import re\n",
    "import requests\n",
    "from bs4 import BeautifulSoup\n",
    "\n",
    "def scrape_proyecto_nuevo(soup, r):\n",
    "    \n",
    "\n",
    "    info_dict = {}\n",
    "    info_dict[\"Localizacion:\"] = [soup.find(name=\"div\", attrs={\"class\":\"d3-property-details__detail-label\"}).string]\n",
    "    #info_dict[\"Categoria:\"] = [i.text for i in elementos_tabla if i.text.lower().find(\"categor\")!=-1]\n",
    "    info_dict[\"avance_proyecto\"] = [soup.find(name=\"span\",attrs={\"class\":\"d3-new-property-stage__current-status--counter\"}).text]\n",
    "    info_dict[\"estado_proyecto\"] = [soup.find(name=\"p\", attrs={\"class\":\"d3-new-property-stage__current-status\"}).text]\n",
    "    info_dict[\"Detalles\"] = [soup.find(name=\"div\", attrs={\"class\":\"d3-property-about d3-property-about--new\"}).text]\n",
    "    info_dict[\"id\"] = [r.url.split(\"/\")[-1]]\n",
    "    info_dict[\"link\"] = [r.url]\n",
    "    \n",
    "    tabla_modelos = soup.find(name=\"div\", attrs={\"class\":\"d3-property-details d3-property-details--new\"})\n",
    "    elementos_tabla = soup.find_all(name=\"div\", attrs={\"class\":\"d3-property-details__detail-label\"})\n",
    "\n",
    "    info_dict[\"Localizacion:\"] = [i.text for i in elementos_tabla if i.text.lower().find(\"localizaci\")!=-1]\n",
    "    info_dict[\"Categoria:\"] = [i.text for i in elementos_tabla if i.text.lower().find(\"categor\")!=-1]\n",
    "\n",
    "    df_tmp = pd.DataFrame()\n",
    "\n",
    "    #for elemento in elementos_tabla:\n",
    "        \n",
    "\n",
    "    print(info_dict)\n",
    "    \n",
    "    return pd.DataFrame(info_dict)\n"
   ]
  },
  {
   "cell_type": "code",
   "execution_count": 92,
   "metadata": {},
   "outputs": [
    {
     "name": "stdout",
     "output_type": "stream",
     "text": [
      "{'Localizacion:': ['Localización La Paz\\n'], 'avance_proyecto': ['1/4 '], 'estado_proyecto': ['1/4 Preventa'], 'Detalles': ['\\nAcerca de\\n\\nDescubra la esencia del refinamiento y la comodidad en nuestras exclusivas casas de una planta. Un oasis de elegancia contemporánea diseñado para aquellos que aprecian la sofisticación sin complicaciones. Disfrute de espacios luminosos y abiertos que se entrelazan con la naturaleza en armonía. Dé un paso hacia el lujo discreto y una vida sin escaleras. Bienvenido a su nuevo hogar, donde la elegancia y la frescura convergen en perfecta sintonía. \\n\\n90 Viviendas \\n3 Tipologías \\n2 Parqueos por vivienda \\n\\nAmenidades: \\n- Piscina \\n- Área de niños \\n- Zonas verdes \\n- 1/2 Cancha de BKB y Football Casa Club \\n\\nReserva: $5,000 \\nPrima: 10%\\n\\n\\nLeer más\\n\\n'], 'id': ['24582258'], 'link': ['https://www.encuentra24.com/el-salvador-es/bienes-raices-proyectos-nuevos/comalapa-flats/24582258'], 'Categoria:': ['Categoria Proyectos nuevos\\n']}\n"
     ]
    },
    {
     "data": {
      "text/html": [
       "<div>\n",
       "<style scoped>\n",
       "    .dataframe tbody tr th:only-of-type {\n",
       "        vertical-align: middle;\n",
       "    }\n",
       "\n",
       "    .dataframe tbody tr th {\n",
       "        vertical-align: top;\n",
       "    }\n",
       "\n",
       "    .dataframe thead th {\n",
       "        text-align: right;\n",
       "    }\n",
       "</style>\n",
       "<table border=\"1\" class=\"dataframe\">\n",
       "  <thead>\n",
       "    <tr style=\"text-align: right;\">\n",
       "      <th></th>\n",
       "      <th>Localizacion:</th>\n",
       "      <th>avance_proyecto</th>\n",
       "      <th>estado_proyecto</th>\n",
       "      <th>Detalles</th>\n",
       "      <th>id</th>\n",
       "      <th>link</th>\n",
       "      <th>Categoria:</th>\n",
       "    </tr>\n",
       "  </thead>\n",
       "  <tbody>\n",
       "    <tr>\n",
       "      <th>0</th>\n",
       "      <td>Localización La Paz\\n</td>\n",
       "      <td>1/4</td>\n",
       "      <td>1/4 Preventa</td>\n",
       "      <td>\\nAcerca de\\n\\nDescubra la esencia del refinam...</td>\n",
       "      <td>24582258</td>\n",
       "      <td>https://www.encuentra24.com/el-salvador-es/bie...</td>\n",
       "      <td>Categoria Proyectos nuevos\\n</td>\n",
       "    </tr>\n",
       "  </tbody>\n",
       "</table>\n",
       "</div>"
      ],
      "text/plain": [
       "           Localizacion: avance_proyecto estado_proyecto  \\\n",
       "0  Localización La Paz\\n            1/4     1/4 Preventa   \n",
       "\n",
       "                                            Detalles        id  \\\n",
       "0  \\nAcerca de\\n\\nDescubra la esencia del refinam...  24582258   \n",
       "\n",
       "                                                link  \\\n",
       "0  https://www.encuentra24.com/el-salvador-es/bie...   \n",
       "\n",
       "                     Categoria:  \n",
       "0  Categoria Proyectos nuevos\\n  "
      ]
     },
     "execution_count": 92,
     "metadata": {},
     "output_type": "execute_result"
    }
   ],
   "source": [
    "link=\"https://www.encuentra24.com/el-salvador-es/bienes-raices-proyectos-nuevos/comalapa-flats/24582258\"\n",
    "r = requests.get(link)\n",
    "soup = BeautifulSoup(r.text, \"html.parser\")\n",
    "\n",
    "df = scrape_proyecto_nuevo(soup,r)\n",
    "df"
   ]
  },
  {
   "cell_type": "code",
   "execution_count": null,
   "metadata": {},
   "outputs": [],
   "source": []
  }
 ],
 "metadata": {
  "kernelspec": {
   "display_name": "Python 3.11.3 ('base')",
   "language": "python",
   "name": "python3"
  },
  "language_info": {
   "codemirror_mode": {
    "name": "ipython",
    "version": 3
   },
   "file_extension": ".py",
   "mimetype": "text/x-python",
   "name": "python",
   "nbconvert_exporter": "python",
   "pygments_lexer": "ipython3",
   "version": "3.11.3"
  },
  "orig_nbformat": 4,
  "vscode": {
   "interpreter": {
    "hash": "7758e92e9a61d7a3490898707f7eeb937c85e9d1e8d4e877cc6c187218f226d5"
   }
  }
 },
 "nbformat": 4,
 "nbformat_minor": 2
}
